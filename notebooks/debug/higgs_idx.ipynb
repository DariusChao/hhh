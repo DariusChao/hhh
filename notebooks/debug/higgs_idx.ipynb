{
 "cells": [
  {
   "cell_type": "markdown",
   "id": "459912ac",
   "metadata": {},
   "source": [
    "## Higgs_idx Debug Notebook"
   ]
  },
  {
   "cell_type": "markdown",
   "id": "8a66423b",
   "metadata": {},
   "source": [
    "### auxiliary"
   ]
  },
  {
   "cell_type": "code",
   "execution_count": null,
   "id": "483bfebc",
   "metadata": {},
   "outputs": [],
   "source": [
    "import logging\n",
    "from pathlib import Path\n",
    "\n",
    "import awkward as ak\n",
    "import click\n",
    "import h5py\n",
    "import numpy as np\n",
    "import uproot\n",
    "import vector\n",
    "\n",
    "from src.data.delphes.matching import (\n",
    "    match_fjet_to_jet,\n",
    "    match_higgs_to_fjet,\n",
    "    match_higgs_to_jet,\n",
    ")"
   ]
  },
  {
   "cell_type": "code",
   "execution_count": null,
   "id": "909fcd5f",
   "metadata": {},
   "outputs": [],
   "source": [
    "vector.register_awkward()\n",
    "vector.register_numba()\n",
    "ak.numba.register()\n",
    "\n",
    "logging.basicConfig(level=logging.INFO)\n",
    "\n",
    "N_JETS = 10\n",
    "N_FJETS = 3\n",
    "MIN_JET_PT = 20\n",
    "MIN_FJET_PT = 200\n",
    "MIN_JETS = 6\n",
    "PROJECT_DIR = Path(__file__).resolve().parents[3]"
   ]
  },
  {
   "cell_type": "code",
   "execution_count": null,
   "id": "78b6e83c",
   "metadata": {},
   "outputs": [],
   "source": [
    "def to_np_array(ak_array, max_n=10, pad=0):\n",
    "    return ak.fill_none(ak.pad_none(ak_array, max_n, clip=True, axis=-1), pad).to_numpy()"
   ]
  },
  {
   "cell_type": "markdown",
   "id": "4c16f147",
   "metadata": {},
   "source": [
    "#### Mimicing main() in this notebook"
   ]
  },
  {
   "cell_type": "code",
   "execution_count": null,
   "id": "607eaef0",
   "metadata": {},
   "outputs": [],
   "source": [
    "in_files=\"\"\n",
    "out_file=\n",
    "train_frac=..."
   ]
  }
 ],
 "metadata": {
  "kernelspec": {
   "display_name": "Python 3 (ipykernel)",
   "language": "python",
   "name": "python3"
  },
  "language_info": {
   "codemirror_mode": {
    "name": "ipython",
    "version": 3
   },
   "file_extension": ".py",
   "mimetype": "text/x-python",
   "name": "python",
   "nbconvert_exporter": "python",
   "pygments_lexer": "ipython3",
   "version": "3.9.10"
  }
 },
 "nbformat": 4,
 "nbformat_minor": 5
}
